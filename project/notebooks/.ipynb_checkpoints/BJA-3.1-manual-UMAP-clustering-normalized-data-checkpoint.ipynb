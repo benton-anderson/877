{
 "cells": [
  {
   "cell_type": "code",
   "execution_count": 32,
   "id": "730e70f6",
   "metadata": {},
   "outputs": [],
   "source": [
    "import pandas as pd\n",
    "import numpy as np\n",
    "import seaborn as sns\n",
    "import matplotlib.pyplot as plt\n",
    "import h5py\n",
    "from scipy import sparse\n",
    "from pathlib import Path\n",
    "import scanpy as sc\n",
    "import copy\n",
    "# import rnanorm"
   ]
  },
  {
   "cell_type": "code",
   "execution_count": 36,
   "id": "727c66ce",
   "metadata": {},
   "outputs": [
    {
     "name": "stderr",
     "output_type": "stream",
     "text": [
      "C:\\Users\\bjanderson23\\anaconda3\\lib\\site-packages\\ipykernel_launcher.py:36: FutureWarning: X.dtype being converted to np.float32 from int32. In the next version of anndata (0.9) conversion will not be automatic. Pass dtype explicitly to avoid this warning. Pass `AnnData(X, dtype=X.dtype, ...)` to get the future behavour.\n"
     ]
    }
   ],
   "source": [
    "def load_sparse_mat(filtered_filename, sample_number):\n",
    "    with h5py.File(filtered_filename, 'r') as f:\n",
    "        data = np.array(f['matrix']['data'])\n",
    "        filtered_barcodes = np.array(f['matrix']['barcodes']).astype('U13')  # b'AAACAAGTATCTCCCA-1'  4992 columns\n",
    "        _id = np.array(f['matrix']['features']['id']).astype('U13')   #  b'ENSG00000275063' 33538 rows\n",
    "        name = np.array(f['matrix']['features']['name']).astype('U13')   # Gene name b'AL627309.3' 33538 rows\n",
    "        indices = np.array(f['matrix']['indices'])\n",
    "        indptr = np.array(f['matrix']['indptr'])\n",
    "        shape = np.array(f['matrix']['shape'])\n",
    "        \n",
    "    barcodes = pd.DataFrame(filtered_barcodes)\n",
    "    barcodes['in_filtered'] = barcodes[0].isin(filtered_barcodes).astype('int')\n",
    "    m = sparse.csr_matrix((data, indices, indptr), shape=(shape[1], shape[0]))\n",
    "    index = [barcodes[0].astype('str').to_list(), \n",
    "             [str(sample_number)]*len(barcodes)]\n",
    "    columns = [name, _id]\n",
    "    return m.toarray()\n",
    "\n",
    "def load_data():\n",
    "    col_metadata = pd.read_csv(r'../data/column_metadata.csv', index_col=0)\n",
    "    row_metadata = pd.read_csv(r'../data/row_metadata.csv', index_col=0)\n",
    "    samples = [151507, 151669, 151673]\n",
    "    filtfiles = [x for x in Path(r'..\\data').glob('*filt*.h5')]\n",
    "    filtfiles = [x for x in filtfiles if (str(samples[0]) in str(x)) or \\\n",
    "                 (str(samples[1]) in str(x)) or (str(samples[2]) in str(x))]\n",
    "    dfs = []\n",
    "    for filtered_file in filtfiles:\n",
    "        sample_number = filtered_file.stem.split('_')[0]\n",
    "        df = load_sparse_mat(filtered_filename=filtered_file, \n",
    "                             sample_number=sample_number)\n",
    "        dfs.append(df)\n",
    "    cdf = np.concatenate(dfs)\n",
    "    adata_master = sc.AnnData(\n",
    "        X=cdf,   \n",
    "        obs=col_metadata.loc[col_metadata.sample_name.isin([151507, 151669, 151673])],     \n",
    "        var=row_metadata)  # obs = rows      var = cols\n",
    "    del cdf\n",
    "    del dfs\n",
    "    return adata_master\n",
    "adata_master = load_data()\n",
    "\n",
    "# Filter genes with counts less than 100\n",
    "high_count_genes = adata_master.X.sum(axis=0) > 100\n",
    "adata_master = adata_master[:, high_count_genes]"
   ]
  },
  {
   "cell_type": "code",
   "execution_count": 44,
   "id": "091f0160",
   "metadata": {},
   "outputs": [
    {
     "name": "stderr",
     "output_type": "stream",
     "text": [
      "C:\\Users\\bjanderson23\\AppData\\Roaming\\Python\\Python37\\site-packages\\scanpy\\preprocessing\\_normalization.py:170: UserWarning: Received a view of an AnnData. Making a copy.\n",
      "  view_to_actual(adata)\n"
     ]
    }
   ],
   "source": [
    "normtot = copy.copy(adata_master)\n",
    "sc.pp.normalize_total(normtot, exclude_highly_expressed=True, inplace=True)\n",
    "normtot = normtot.T"
   ]
  },
  {
   "cell_type": "code",
   "execution_count": 7,
   "id": "e6a4f90a",
   "metadata": {},
   "outputs": [
    {
     "name": "stdout",
     "output_type": "stream",
     "text": [
      "['', 'AAACAACGAATAGTTC.1', 'AAACAAGTATCTCCCA.1', 'AAACAATCTACTAGCA.1', 'AAACACCAATAACTGC.1', 'AAACAGCTTTCAGAAG.1', 'AAACAGGGTCTATATT.1', 'AAACAGTGTTCCTGGG.1', 'AAACATTTCCCGGATT.1', 'AAACCACTACACAGAT.1']\n",
      "['ENSG00000237491', '0.045', '0', '0', '0', '0', '0.028', '0', '0', '0']\n",
      "['ENSG00000188976', '0.275', '0.022', '0.186', '0.058', '0.064', '0.103', '0.175', '0.056', '0.094']\n",
      "['ENSG00000187961', '0', '0.06', '0', '0', '0', '0.013', '0.004', '0.064', '0']\n",
      "['ENSG00000188290', '0', '0.164', '0.217', '0.08', '0.086', '0.197', '0.212', '0.298', '0.133']\n",
      "['ENSG00000187608', '0.8', '0.605', '0.15', '0.645', '0.255', '0.119', '0.045', '0.386', '0.137']\n",
      "['ENSG00000188157', '0.226', '0.017', '0.099', '0.081', '0.2', '0.215', '0.124', '0.587', '0.083']\n",
      "['ENSG00000131591', '0.002', '0.101', '0.089', '0', '0.074', '0.069', '0.015', '0', '0.069']\n",
      "['ENSG00000186891', '0.057', '0.068', '0', '0.055', '0.055', '0', '0', '0.055', '0']\n",
      "['ENSG00000186827', '0', '0', '0', '0', '0', '0.041', '0', '0', '0']\n",
      "['ENSG00000078808', '0.279', '0.127', '0.295', '0.296', '0.181', '0.304', '0.184', '0.253', '0.309']\n"
     ]
    }
   ],
   "source": [
    "with open(r'..\\data\\dino_norm.csv') as f:\n",
    "    r = csv.reader(f)\n",
    "    for i, row in enumerate(r):\n",
    "        print(row[:10])\n",
    "        \n",
    "        if i == 10:\n",
    "            break"
   ]
  },
  {
   "cell_type": "code",
   "execution_count": null,
   "id": "d6bcd4c9",
   "metadata": {},
   "outputs": [],
   "source": []
  },
  {
   "cell_type": "code",
   "execution_count": 8,
   "id": "950ecfcb",
   "metadata": {},
   "outputs": [],
   "source": [
    "dino = pd.read_csv(r'..\\data\\dino_norm.csv', index_col=0)"
   ]
  },
  {
   "cell_type": "code",
   "execution_count": 30,
   "id": "4960d7f9",
   "metadata": {},
   "outputs": [
    {
     "data": {
      "text/plain": [
       "'AAACAACGAATAGTTC'"
      ]
     },
     "execution_count": 30,
     "metadata": {},
     "output_type": "execute_result"
    }
   ],
   "source": [
    "dino.columns[0][:16]"
   ]
  },
  {
   "cell_type": "code",
   "execution_count": 34,
   "id": "96513c20",
   "metadata": {},
   "outputs": [
    {
     "data": {
      "text/plain": [
       "(13585, 11526)"
      ]
     },
     "execution_count": 34,
     "metadata": {},
     "output_type": "execute_result"
    }
   ],
   "source": [
    "dino.values.shape"
   ]
  },
  {
   "cell_type": "code",
   "execution_count": null,
   "id": "57f7ffa2",
   "metadata": {},
   "outputs": [],
   "source": []
  },
  {
   "cell_type": "code",
   "execution_count": null,
   "id": "6d270666",
   "metadata": {},
   "outputs": [],
   "source": []
  },
  {
   "cell_type": "code",
   "execution_count": null,
   "id": "9816849e",
   "metadata": {},
   "outputs": [],
   "source": []
  },
  {
   "cell_type": "code",
   "execution_count": null,
   "id": "a98562c1",
   "metadata": {},
   "outputs": [],
   "source": []
  },
  {
   "cell_type": "code",
   "execution_count": null,
   "id": "bb4ca429",
   "metadata": {},
   "outputs": [],
   "source": []
  },
  {
   "cell_type": "code",
   "execution_count": null,
   "id": "a3111a23",
   "metadata": {},
   "outputs": [],
   "source": []
  },
  {
   "cell_type": "code",
   "execution_count": null,
   "id": "8ebec25a",
   "metadata": {},
   "outputs": [],
   "source": []
  },
  {
   "cell_type": "code",
   "execution_count": null,
   "id": "ee7a07b1",
   "metadata": {},
   "outputs": [],
   "source": []
  },
  {
   "cell_type": "code",
   "execution_count": null,
   "id": "fd17475f",
   "metadata": {},
   "outputs": [],
   "source": []
  },
  {
   "cell_type": "code",
   "execution_count": null,
   "id": "a5eae76c",
   "metadata": {},
   "outputs": [],
   "source": []
  },
  {
   "cell_type": "code",
   "execution_count": null,
   "id": "d296c5da",
   "metadata": {},
   "outputs": [],
   "source": []
  },
  {
   "cell_type": "code",
   "execution_count": null,
   "id": "f641e63b",
   "metadata": {},
   "outputs": [],
   "source": []
  },
  {
   "cell_type": "code",
   "execution_count": null,
   "id": "15246ba6",
   "metadata": {},
   "outputs": [],
   "source": []
  },
  {
   "cell_type": "code",
   "execution_count": null,
   "id": "db6b397b",
   "metadata": {},
   "outputs": [],
   "source": []
  },
  {
   "cell_type": "code",
   "execution_count": null,
   "id": "478cefa5",
   "metadata": {},
   "outputs": [],
   "source": []
  },
  {
   "cell_type": "code",
   "execution_count": null,
   "id": "edbdbf0d",
   "metadata": {},
   "outputs": [],
   "source": []
  },
  {
   "cell_type": "code",
   "execution_count": null,
   "id": "7a9398ce",
   "metadata": {},
   "outputs": [],
   "source": []
  },
  {
   "cell_type": "code",
   "execution_count": null,
   "id": "cc9f2101",
   "metadata": {},
   "outputs": [],
   "source": []
  },
  {
   "cell_type": "code",
   "execution_count": null,
   "id": "aca6d007",
   "metadata": {},
   "outputs": [],
   "source": []
  },
  {
   "cell_type": "code",
   "execution_count": null,
   "id": "005eadbc",
   "metadata": {},
   "outputs": [],
   "source": []
  },
  {
   "cell_type": "code",
   "execution_count": null,
   "id": "69b8094e",
   "metadata": {},
   "outputs": [],
   "source": []
  },
  {
   "cell_type": "code",
   "execution_count": null,
   "id": "2fa5264e",
   "metadata": {},
   "outputs": [],
   "source": []
  },
  {
   "cell_type": "code",
   "execution_count": null,
   "id": "7c4f4f06",
   "metadata": {},
   "outputs": [],
   "source": []
  },
  {
   "cell_type": "code",
   "execution_count": null,
   "id": "74ee3ec5",
   "metadata": {},
   "outputs": [],
   "source": []
  },
  {
   "cell_type": "code",
   "execution_count": null,
   "id": "bbccde20",
   "metadata": {},
   "outputs": [],
   "source": []
  },
  {
   "cell_type": "code",
   "execution_count": null,
   "id": "79400480",
   "metadata": {},
   "outputs": [],
   "source": []
  },
  {
   "cell_type": "code",
   "execution_count": null,
   "id": "5270adaa",
   "metadata": {},
   "outputs": [],
   "source": []
  },
  {
   "cell_type": "code",
   "execution_count": null,
   "id": "75a7e9db",
   "metadata": {},
   "outputs": [],
   "source": []
  }
 ],
 "metadata": {
  "kernelspec": {
   "display_name": "Python 3",
   "language": "python",
   "name": "python3"
  },
  "language_info": {
   "codemirror_mode": {
    "name": "ipython",
    "version": 3
   },
   "file_extension": ".py",
   "mimetype": "text/x-python",
   "name": "python",
   "nbconvert_exporter": "python",
   "pygments_lexer": "ipython3",
   "version": "3.7.10"
  }
 },
 "nbformat": 4,
 "nbformat_minor": 5
}
