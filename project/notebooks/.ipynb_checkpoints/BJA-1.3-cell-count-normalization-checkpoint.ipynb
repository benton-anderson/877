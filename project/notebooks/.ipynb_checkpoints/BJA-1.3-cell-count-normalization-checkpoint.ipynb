{
 "cells": [
  {
   "cell_type": "markdown",
   "id": "88863553",
   "metadata": {},
   "source": [
    "## Normalize using:\n",
    "1. predicted cell count (directly from the data matrix)\n",
    "2. a janky normalization that accounts for cell size by doing the square root of the # of cells \n",
    "    - (cell count of 0 gets adjusted to 0.5 cells in both cases)\n",
    "\n",
    "### Once I have a handle on determining quality of clustering method, these two cell count methods should be compared against each other\n",
    "#### Comparing these cell count methods against the others seems... risky?"
   ]
  },
  {
   "cell_type": "code",
   "execution_count": null,
   "id": "abf19dfc",
   "metadata": {},
   "outputs": [],
   "source": []
  },
  {
   "cell_type": "code",
   "execution_count": null,
   "id": "7cc55af5",
   "metadata": {},
   "outputs": [],
   "source": []
  },
  {
   "cell_type": "code",
   "execution_count": null,
   "id": "1c9ee5cf",
   "metadata": {},
   "outputs": [],
   "source": []
  },
  {
   "cell_type": "code",
   "execution_count": null,
   "id": "89f6b393",
   "metadata": {},
   "outputs": [],
   "source": []
  },
  {
   "cell_type": "code",
   "execution_count": null,
   "id": "2b3abd12",
   "metadata": {},
   "outputs": [],
   "source": []
  },
  {
   "cell_type": "code",
   "execution_count": null,
   "id": "ecec9373",
   "metadata": {},
   "outputs": [],
   "source": []
  }
 ],
 "metadata": {
  "kernelspec": {
   "display_name": "Python 3",
   "language": "python",
   "name": "python3"
  },
  "language_info": {
   "codemirror_mode": {
    "name": "ipython",
    "version": 3
   },
   "file_extension": ".py",
   "mimetype": "text/x-python",
   "name": "python",
   "nbconvert_exporter": "python",
   "pygments_lexer": "ipython3",
   "version": "3.7.10"
  }
 },
 "nbformat": 4,
 "nbformat_minor": 5
}
