{
 "cells": [
  {
   "cell_type": "markdown",
   "id": "ae2a484e",
   "metadata": {},
   "source": []
  },
  {
   "cell_type": "markdown",
   "id": "be692d57",
   "metadata": {},
   "source": [
    "## Paper looks at normalization methods on scRNAseq that don't require gene spike-ins\n",
    "\n",
    "https://www.frontiersin.org/articles/10.3389/fgene.2020.00041/full\n",
    "\n",
    "## SAMstrt (designed for single-cell tagged reverse transcription) \n",
    "\n",
    "\n",
    "## Bayesian analysis of single-cell seq data (BASiCS)\n",
    "- separates variance into gene-specific variance, technical noise, and biological variance \n",
    "- uses spike-in genes when available, not necessary\n",
    "- jointly models spike-in genes and biological genes \n",
    "- important to clean data by removing genes and cells with very low total reads \n",
    "- steps:\n",
    "1. uses spike-in genes to make hierachical model for technical variance\n",
    "    - uses poisson and gamma distributions to model expression counts of spike-in genes in all cells\n",
    "    - uses random effects\n",
    "    - spike-in genes are added in equal quantity in all cells, so they are independent of biological variance\n",
    "2. After modeling spike-in genes, it repeats for all biological genes\n",
    "    - generates a normalization factor for each individual cell \n",
    "    - estimates normaliation factors as model parameters by combining info from all genes \n",
    "    \n",
    "## Gamma regression model (GRM)\n",
    "- uses spike-in genes to construct model that gives differences between observed and actual spike-in concentration\n",
    "- predicts concentration as function of Fragments Per Kilobase of transcript per Million mapped reads (FPKM)\n",
    "- Gamma regression model fits log-transformed concentration data against log-transformed FPKM for spike-in genes\n",
    "- due to non-linearity of spike-in reads, they are modeled with polynomial function \n",
    "- GRM is applied to cells individually rather than simultaneously \n",
    "\n",
    "## scran - Single Cell RNA seq data analysis \n",
    "- \"Deconvolution approach\" \n",
    "- partitions cells into pools \n",
    "    - normalizes across cells in each pool\n",
    "    - This generates a system of linear equations \n",
    "- "
   ]
  },
  {
   "cell_type": "markdown",
   "id": "0ff88dfc",
   "metadata": {},
   "source": []
  },
  {
   "cell_type": "markdown",
   "id": "bf6690f0",
   "metadata": {},
   "source": []
  },
  {
   "cell_type": "markdown",
   "id": "84d3c583",
   "metadata": {},
   "source": []
  },
  {
   "cell_type": "markdown",
   "id": "308ea33a",
   "metadata": {},
   "source": []
  },
  {
   "cell_type": "markdown",
   "id": "bf620880",
   "metadata": {},
   "source": []
  },
  {
   "cell_type": "markdown",
   "id": "50528e4f",
   "metadata": {},
   "source": []
  },
  {
   "cell_type": "markdown",
   "id": "792fda48",
   "metadata": {},
   "source": []
  },
  {
   "cell_type": "markdown",
   "id": "a075222a",
   "metadata": {},
   "source": []
  },
  {
   "cell_type": "markdown",
   "id": "216e6f08",
   "metadata": {},
   "source": []
  },
  {
   "cell_type": "markdown",
   "id": "a1e0eece",
   "metadata": {},
   "source": []
  },
  {
   "cell_type": "markdown",
   "id": "e04ba193",
   "metadata": {},
   "source": []
  },
  {
   "cell_type": "markdown",
   "id": "7f3008c1",
   "metadata": {},
   "source": []
  },
  {
   "cell_type": "markdown",
   "id": "53853f9b",
   "metadata": {},
   "source": []
  },
  {
   "cell_type": "markdown",
   "id": "5970764e",
   "metadata": {},
   "source": []
  },
  {
   "cell_type": "markdown",
   "id": "efda4cb3",
   "metadata": {},
   "source": []
  },
  {
   "cell_type": "markdown",
   "id": "db514e03",
   "metadata": {},
   "source": []
  }
 ],
 "metadata": {
  "kernelspec": {
   "display_name": "Python 3",
   "language": "python",
   "name": "python3"
  },
  "language_info": {
   "codemirror_mode": {
    "name": "ipython",
    "version": 3
   },
   "file_extension": ".py",
   "mimetype": "text/x-python",
   "name": "python",
   "nbconvert_exporter": "python",
   "pygments_lexer": "ipython3",
   "version": "3.7.10"
  }
 },
 "nbformat": 4,
 "nbformat_minor": 5
}
