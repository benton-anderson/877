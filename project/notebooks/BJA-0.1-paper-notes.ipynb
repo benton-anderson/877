{
 "cells": [
  {
   "cell_type": "markdown",
   "id": "b7c6aad6",
   "metadata": {},
   "source": [
    "## Article\n",
    "https://www.nature.com/articles/s41593-020-00787-0"
   ]
  },
  {
   "cell_type": "markdown",
   "id": "a702546a",
   "metadata": {},
   "source": [
    "### DLPFC tissue (dorsolateral prefrontal cortex)\n",
    "\n",
    "- implicated in higher cognitive functions e.g. working memory, switching attention \n",
    "\n",
    "### 2 spatial replicates from 3 neurotypical donors\n",
    "- Each pair is two directly adjacent 10 micron serial tissue sections at pial, with the second pair 300 micron posterior to the first\n",
    "- So each donor has 4 unique tissue samples, and each pair is close to each other, but still a distinct tissue sample \n",
    "- total of 12 samples \n",
    "\n",
    "### sequencing depth\n",
    "- 291e6 median reads\n",
    "- IQR 269 to 327e6\n",
    "\n",
    "### sequencing stats\n",
    "- average of 3,462 unique molecular identifiers (UMIs) per spot\n",
    "- average of 1,734 genes per spot\n",
    "- these are typical numbers for the 10x genomics platform\n",
    "\n",
    "## difference between snRNAseq (single nucleus) and scRNA using\n",
    "- snRNA and scRNA on brain contains lots of intronic reads from immature transcripts\n",
    "- this spatial technique strongly enriches mature mRNAs with high exonic alignment \n",
    "\n",
    "### Cells per spot\n",
    "- indepdent processing and cell segmentation of the high-resolution histology images before cDNA synthesis showed average of 3.3 cells/spot (IQR 1-4) \n",
    "- 15% contain 1 cell\n",
    "- 9.7% neuropil (neuropil = white matter?) spots contained 0 cells \n",
    "\n",
    "## Origin of Filtered vs raw data (going from ~60k to 47,681)\n",
    "- They made aggregated layer-enriched expression profiles for each spatial replicate using 'supervised' approach that assigned individual spots to each of the six brain layers plus white matter \n",
    "- 'pseudo-bulking' = sums UMI counts for each gene wthin each layer across each spatial replicate to give layer-enriched expression profiles "
   ]
  },
  {
   "cell_type": "markdown",
   "id": "b39db339",
   "metadata": {},
   "source": []
  },
  {
   "cell_type": "markdown",
   "id": "ed556807",
   "metadata": {},
   "source": []
  },
  {
   "cell_type": "markdown",
   "id": "49e755f7",
   "metadata": {},
   "source": []
  },
  {
   "cell_type": "markdown",
   "id": "1de49c28",
   "metadata": {},
   "source": []
  },
  {
   "cell_type": "markdown",
   "id": "e6408339",
   "metadata": {},
   "source": []
  },
  {
   "cell_type": "markdown",
   "id": "1c47ada6",
   "metadata": {},
   "source": []
  },
  {
   "cell_type": "markdown",
   "id": "26185269",
   "metadata": {},
   "source": []
  },
  {
   "cell_type": "markdown",
   "id": "fc5c5a8d",
   "metadata": {},
   "source": []
  },
  {
   "cell_type": "markdown",
   "id": "f7a463ac",
   "metadata": {},
   "source": []
  }
 ],
 "metadata": {
  "kernelspec": {
   "display_name": "Python 3",
   "language": "python",
   "name": "python3"
  },
  "language_info": {
   "codemirror_mode": {
    "name": "ipython",
    "version": 3
   },
   "file_extension": ".py",
   "mimetype": "text/x-python",
   "name": "python",
   "nbconvert_exporter": "python",
   "pygments_lexer": "ipython3",
   "version": "3.7.10"
  }
 },
 "nbformat": 4,
 "nbformat_minor": 5
}
