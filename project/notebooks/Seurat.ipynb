{
 "cells": [
  {
   "cell_type": "code",
   "execution_count": 4,
   "id": "1be03f2b",
   "metadata": {},
   "outputs": [],
   "source": [
    "\n",
    "\n",
    "writeLines('PATH=\"${PATH};${RTOOLS40_HOME}\\\\usr\\\\bin\"', con = \"~/.Renviron\")\n"
   ]
  },
  {
   "cell_type": "code",
   "execution_count": 2,
   "id": "4f121338",
   "metadata": {},
   "outputs": [
    {
     "name": "stderr",
     "output_type": "stream",
     "text": [
      "Warning message in install.packages(\"jsonlite\", type = \"source\"):\n",
      "\"installation of package 'jsonlite' had non-zero exit status\"\n"
     ]
    }
   ],
   "source": [
    "install.packages(\"jsonlite\", type = \"source\")"
   ]
  },
  {
   "cell_type": "code",
   "execution_count": 1,
   "id": "b36db3c0",
   "metadata": {},
   "outputs": [
    {
     "data": {
      "text/html": [
       "<strong>make:</strong> ''"
      ],
      "text/latex": [
       "\\textbf{make:} ''"
      ],
      "text/markdown": [
       "**make:** ''"
      ],
      "text/plain": [
       "make \n",
       "  \"\" "
      ]
     },
     "metadata": {},
     "output_type": "display_data"
    }
   ],
   "source": [
    "Sys.which(\"make\")"
   ]
  },
  {
   "cell_type": "code",
   "execution_count": 3,
   "id": "025842df",
   "metadata": {
    "scrolled": false
   },
   "outputs": [
    {
     "name": "stderr",
     "output_type": "stream",
     "text": [
      "Installing 1 packages: sp\n",
      "\n"
     ]
    },
    {
     "name": "stdout",
     "output_type": "stream",
     "text": [
      "\n",
      "  There is a binary version available but the source version is later:\n",
      "   binary source needs_compilation\n",
      "sp  1.4-6  1.4-7              TRUE\n",
      "\n"
     ]
    },
    {
     "name": "stderr",
     "output_type": "stream",
     "text": [
      "installing the source package 'sp'\n",
      "\n",
      "\n",
      "Warning message in i.p(...):\n",
      "\"installation of package 'sp' had non-zero exit status\"\n",
      "Warning message in i.p(...):\n",
      "\"installation of package 'C:/Users/BJANDE~1/AppData/Local/Temp/Rtmp4WD01E/file4a7c495e732/SeuratObject_4.0.999.9011.tar.gz' had non-zero exit status\"\n",
      "Installing 5 packages: vctrs, fansi, spatstat.sparse, matrixStats, Rtsne\n",
      "\n"
     ]
    },
    {
     "name": "stdout",
     "output_type": "stream",
     "text": [
      "\n",
      "  There are binary versions available but the source versions are later:\n",
      "                binary source needs_compilation\n",
      "spatstat.sparse  2.1-0  2.1-1              TRUE\n",
      "matrixStats     0.61.0 0.62.0              TRUE\n",
      "Rtsne             0.15   0.16              TRUE\n",
      "\n",
      "package 'vctrs' successfully unpacked and MD5 sums checked\n"
     ]
    },
    {
     "name": "stderr",
     "output_type": "stream",
     "text": [
      "Warning message:\n",
      "\"cannot remove prior installation of package 'vctrs'\"\n",
      "Warning message in file.copy(savedcopy, lib, recursive = TRUE):\n",
      "\"problem copying C:\\Users\\bjanderson23\\R\\R-4.1.2\\library\\00LOCK\\vctrs\\libs\\x64\\vctrs.dll to C:\\Users\\bjanderson23\\R\\R-4.1.2\\library\\vctrs\\libs\\x64\\vctrs.dll: Permission denied\"\n",
      "Warning message:\n",
      "\"restored 'vctrs'\"\n"
     ]
    },
    {
     "name": "stdout",
     "output_type": "stream",
     "text": [
      "package 'fansi' successfully unpacked and MD5 sums checked\n"
     ]
    },
    {
     "name": "stderr",
     "output_type": "stream",
     "text": [
      "Warning message:\n",
      "\"cannot remove prior installation of package 'fansi'\"\n",
      "Warning message in file.copy(savedcopy, lib, recursive = TRUE):\n",
      "\"problem copying C:\\Users\\bjanderson23\\R\\R-4.1.2\\library\\00LOCK\\fansi\\libs\\x64\\fansi.dll to C:\\Users\\bjanderson23\\R\\R-4.1.2\\library\\fansi\\libs\\x64\\fansi.dll: Permission denied\"\n",
      "Warning message:\n",
      "\"restored 'fansi'\"\n",
      "installing the source packages 'spatstat.sparse', 'matrixStats', 'Rtsne'\n",
      "\n",
      "\n",
      "Warning message in i.p(...):\n",
      "\"installation of package 'spatstat.sparse' had non-zero exit status\"\n",
      "Warning message in i.p(...):\n",
      "\"installation of package 'matrixStats' had non-zero exit status\"\n",
      "Warning message in i.p(...):\n",
      "\"installation of package 'Rtsne' had non-zero exit status\"\n"
     ]
    },
    {
     "ename": "ERROR",
     "evalue": "Error: Failed to install 'Seurat' from GitHub:\n  System command 'Rcmd.exe' failed, exit status: 1, stdout + stderr:\nE> * checking for file 'C:\\Users\\bjanderson23\\AppData\\Local\\Temp\\Rtmp4WD01E\\remotes4a7c61ff3178\\satijalab-seurat-0e75936/DESCRIPTION' ... OK\nE> * preparing 'Seurat':\nE> * checking DESCRIPTION meta-information ... OK\nE> * cleaning src\nE> * installing the package to process help pages\nE>       -----------------------------------\nE> ERROR: dependency 'SeuratObject' is not available for package 'Seurat'\nE> * removing 'C:/Users/BJANDE~1/AppData/Local/Temp/RtmpWKiqIE/Rinst4f68787e7151/Seurat'\nE>       -----------------------------------\nE> ERROR: package installation failed\n",
     "output_type": "error",
     "traceback": [
      "Error: Failed to install 'Seurat' from GitHub:\n  System command 'Rcmd.exe' failed, exit status: 1, stdout + stderr:\nE> * checking for file 'C:\\Users\\bjanderson23\\AppData\\Local\\Temp\\Rtmp4WD01E\\remotes4a7c61ff3178\\satijalab-seurat-0e75936/DESCRIPTION' ... OK\nE> * preparing 'Seurat':\nE> * checking DESCRIPTION meta-information ... OK\nE> * cleaning src\nE> * installing the package to process help pages\nE>       -----------------------------------\nE> ERROR: dependency 'SeuratObject' is not available for package 'Seurat'\nE> * removing 'C:/Users/BJANDE~1/AppData/Local/Temp/RtmpWKiqIE/Rinst4f68787e7151/Seurat'\nE>       -----------------------------------\nE> ERROR: package installation failed\nTraceback:\n",
      "1. remotes::install_github(\"satijalab/seurat\", \"feat/imaging\", quiet = TRUE)",
      "2. install_remotes(remotes, auth_token = auth_token, host = host, \n .     dependencies = dependencies, upgrade = upgrade, force = force, \n .     quiet = quiet, build = build, build_opts = build_opts, build_manual = build_manual, \n .     build_vignettes = build_vignettes, repos = repos, type = type, \n .     ...)",
      "3. tryCatch(res[[i]] <- install_remote(remotes[[i]], ...), error = function(e) {\n .     stop(remote_install_error(remotes[[i]], e))\n . })",
      "4. tryCatchList(expr, classes, parentenv, handlers)",
      "5. tryCatchOne(expr, names, parentenv, handlers[[1L]])",
      "6. value[[3L]](cond)"
     ]
    }
   ],
   "source": [
    "library(remotes)\n",
    "remotes::install_github(\"satijalab/seurat\", \"feat/imaging\", quiet = TRUE)\n",
    "library(Seurat)\n",
    "library(future)\n",
    "plan(\"multisession\", workers = 10)"
   ]
  },
  {
   "cell_type": "code",
   "execution_count": 3,
   "id": "1ce88ecb",
   "metadata": {},
   "outputs": [
    {
     "data": {
      "text/html": [
       "'C:\\\\Users\\\\bjanderson23\\\\Documents'"
      ],
      "text/latex": [
       "'C:\\textbackslash{}\\textbackslash{}Users\\textbackslash{}\\textbackslash{}bjanderson23\\textbackslash{}\\textbackslash{}Documents'"
      ],
      "text/markdown": [
       "'C:\\\\Users\\\\bjanderson23\\\\Documents'"
      ],
      "text/plain": [
       "[1] \"C:\\\\Users\\\\bjanderson23\\\\Documents\""
      ]
     },
     "metadata": {},
     "output_type": "display_data"
    }
   ],
   "source": [
    "Sys.getenv(\"HOME\")"
   ]
  }
 ],
 "metadata": {
  "kernelspec": {
   "display_name": "R-4.1.2",
   "language": "R",
   "name": "r-4.1.2"
  },
  "language_info": {
   "codemirror_mode": "r",
   "file_extension": ".r",
   "mimetype": "text/x-r-source",
   "name": "R",
   "pygments_lexer": "r",
   "version": "4.1.2"
  }
 },
 "nbformat": 4,
 "nbformat_minor": 5
}
